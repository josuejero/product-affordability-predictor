{
 "cells": [
  {
   "cell_type": "code",
   "execution_count": null,
   "metadata": {},
   "outputs": [],
   "source": [
    "{\n",
    " \"cells\": [\n",
    "  {\n",
    "   \"cell_type\": \"code\",\n",
    "   \"execution_count\": null,\n",
    "   \"metadata\": {},\n",
    "   \"outputs\": [],\n",
    "   \"source\": [\n",
    "    \"import pandas as pd\\n\",\n",
    "    \"from model import predict_affordability\\n\",\n",
    "    \"import logging\\n\",\n",
    "    \"\\n\",\n",
    "    \"logging.basicConfig(level=logging.INFO)\\n\",\n",
    "    \"logger = logging.getLogger(__name__)\\n\",\n",
    "    \"\\n\",\n",
    "    \"cashflow = pd.read_csv('../data/cashflow.csv')\\n\",\n",
    "    \"\\n\",\n",
    "    \"cashflow['Date'] = pd.to_datetime(cashflow['Date'])\\n\",\n",
    "    \"\\n\",\n",
    "    \"logger.info(\\\"Generating predicted balances...\\\")\\n\",\n",
    "    \"predicted_balances = predict_affordability(cashflow)\\n\",\n",
    "    \"\\n\",\n",
    "    \"if predicted_balances is not None:\\n\",\n",
    "    \"    logger.info(\\\"Predicted balances successfully calculated.\\\")\\n\",\n",
    "    \"    print(predicted_balances.head())\\n\",\n",
    "    \"else:\\n\",\n",
    "    \"    logger.error(\\\"Error: Could not calculate predicted balances. Please check input data and model.\\\")\\n\",\n",
    "    \"    print(\\\"Error: Could not calculate predicted balances.\\\")\\n\"\n",
    "   ]\n",
    "  }\n",
    " ],\n",
    " \"metadata\": {\n",
    "  \"kernelspec\": {\n",
    "   \"display_name\": \"venv\",\n",
    "   \"language\": \"python\",\n",
    "   \"name\": \"python3\"\n",
    "  },\n",
    "  \"language_info\": {\n",
    "   \"codemirror_mode\": {\n",
    "    \"name\": \"ipython\",\n",
    "    \"version\": 3\n",
    "   },\n",
    "   \"file_extension\": \".py\",\n",
    "   \"mimetype\": \"text/x-python\",\n",
    "   \"name\": \"python\",\n",
    "   \"nbconvert_exporter\": \"python\",\n",
    "   \"pygments_lexer\": \"ipython3\",\n",
    "   \"version\": \"3.12.4\"\n",
    "  }\n",
    " },\n",
    " \"nbformat\": 4,\n",
    " \"nbformat_minor\": 2\n",
    "}\n"
   ]
  }
 ],
 "metadata": {
  "kernelspec": {
   "display_name": "venv",
   "language": "python",
   "name": "python3"
  },
  "language_info": {
   "codemirror_mode": {
    "name": "ipython",
    "version": 3
   },
   "file_extension": ".py",
   "mimetype": "text/x-python",
   "name": "python",
   "nbconvert_exporter": "python",
   "pygments_lexer": "ipython3",
   "version": "3.12.4"
  }
 },
 "nbformat": 4,
 "nbformat_minor": 2
}
